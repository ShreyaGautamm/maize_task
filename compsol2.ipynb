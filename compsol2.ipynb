{
  "nbformat": 4,
  "nbformat_minor": 0,
  "metadata": {
    "colab": {
      "provenance": []
    },
    "kernelspec": {
      "name": "python3",
      "display_name": "Python 3"
    },
    "language_info": {
      "name": "python"
    }
  },
  "cells": [
    {
      "cell_type": "code",
      "source": [
        "!pip install PyPDF2"
      ],
      "metadata": {
        "colab": {
          "base_uri": "https://localhost:8080/"
        },
        "id": "hWidzNCFPLIg",
        "outputId": "0fc978e5-3a61-4952-8bac-9019c36eee48"
      },
      "execution_count": null,
      "outputs": [
        {
          "output_type": "stream",
          "name": "stdout",
          "text": [
            "Collecting PyPDF2\n",
            "  Downloading pypdf2-3.0.1-py3-none-any.whl.metadata (6.8 kB)\n",
            "Downloading pypdf2-3.0.1-py3-none-any.whl (232 kB)\n",
            "\u001b[2K   \u001b[90m━━━━━━━━━━━━━━━━━━━━━━━━━━━━━━━━━━━━━━━━\u001b[0m \u001b[32m232.6/232.6 kB\u001b[0m \u001b[31m3.6 MB/s\u001b[0m eta \u001b[36m0:00:00\u001b[0m\n",
            "\u001b[?25hInstalling collected packages: PyPDF2\n",
            "Successfully installed PyPDF2-3.0.1\n"
          ]
        }
      ]
    },
    {
      "cell_type": "code",
      "execution_count": null,
      "metadata": {
        "colab": {
          "base_uri": "https://localhost:8080/"
        },
        "id": "jCxmShvpOGVe",
        "outputId": "3db439b7-bcd7-447a-8df7-cfb3dddcdbb2"
      },
      "outputs": [
        {
          "output_type": "stream",
          "name": "stdout",
          "text": [
            "Done! The results are saved in 'output.json'.\n"
          ]
        }
      ],
      "source": [
        "import re\n",
        "import json\n",
        "from PyPDF2 import PdfReader\n",
        "\n",
        "# List of entities to find (no complex structures, just basic lists)\n",
        "entities = [\n",
        "    \"Camera dei Deputati\",\n",
        "    \"Senato della Repubblica\",\n",
        "    \"Presidente della Repubblica\",\n",
        "    \"Governo\",\n",
        "    \"Regione\",\n",
        "    \"Parlamento\",\n",
        "    \"Consiglio superiore della magistratura\",\n",
        "    \"Consiglio\"\n",
        "]\n",
        "\n",
        "# Pattern to match legal references (very basic)\n",
        "legal_ref_pattern = r'l\\. cost\\. \\d{1,2} \\w+ \\d{4}, n\\.\\d+'\n",
        "\n",
        "def read_pdf(pdf_path):\n",
        "    \"\"\"Reads the PDF and extracts the text from it.\"\"\"\n",
        "    reader = PdfReader(pdf_path)\n",
        "    all_text = \"\"\n",
        "    # Go through all the pages and get the text from each page\n",
        "    for page in reader.pages:\n",
        "        all_text += page.extract_text()\n",
        "    return all_text\n",
        "\n",
        "def find_entities(text):\n",
        "    \"\"\"Finds entities in the text and returns their positions.\"\"\"\n",
        "    found_entities = []\n",
        "    for entity in entities:\n",
        "        matches = re.finditer(entity, text)\n",
        "        for match in matches:\n",
        "            # Get where the entity starts and ends in the text\n",
        "            found_entities.append({\n",
        "                \"label\": entity,\n",
        "                \"span_start\": match.start(),\n",
        "                \"span_end\": match.end()\n",
        "            })\n",
        "    return found_entities\n",
        "\n",
        "def find_legal_references(text):\n",
        "    \"\"\"Finds legal references using a basic regular expression.\"\"\"\n",
        "    found_refs = []\n",
        "    matches = re.finditer(legal_ref_pattern, text)\n",
        "    for match in matches:\n",
        "        found_refs.append({\n",
        "            \"reference\": match.group(),\n",
        "            \"span_start\": match.start(),\n",
        "            \"span_end\": match.end()\n",
        "        })\n",
        "    return found_refs\n",
        "\n",
        "def main():\n",
        "    # Path to the PDF file\n",
        "    pdf_file = \"/content/Costituzione_ITALIANO.pdf\"\n",
        "\n",
        "    # Read the PDF text\n",
        "    text = read_pdf(pdf_file)\n",
        "\n",
        "    # Find entities in the text\n",
        "    entities_result = find_entities(text)\n",
        "\n",
        "    # Find legal references in the text\n",
        "    legal_refs_result = find_legal_references(text)\n",
        "\n",
        "    # Combine everything in one dictionary (super simple)\n",
        "    result = {\n",
        "        \"entities\": entities_result,\n",
        "        \"legal_references\": legal_refs_result\n",
        "    }\n",
        "\n",
        "    # Save the result to a JSON file (plain write to file)\n",
        "    with open(\"output.json\", \"w\", encoding='utf-8') as f:\n",
        "        json.dump(result, f, indent=4)\n",
        "\n",
        "    # Let the user know that the work is done\n",
        "    print(\"Done! The results are saved in 'output.json'.\")\n",
        "\n",
        "if __name__ == \"__main__\":\n",
        "    main()\n"
      ]
    },
    {
      "cell_type": "code",
      "source": [],
      "metadata": {
        "id": "-RGz60dKPGKj"
      },
      "execution_count": null,
      "outputs": []
    }
  ]
}